{
  "nbformat": 4,
  "nbformat_minor": 0,
  "metadata": {
    "colab": {
      "name": "업무자동화.ipynb",
      "provenance": [],
      "authorship_tag": "ABX9TyMWkuTjQmKUulapZHB39Wpb",
      "include_colab_link": true
    },
    "kernelspec": {
      "name": "python3",
      "display_name": "Python 3"
    },
    "language_info": {
      "name": "python"
    }
  },
  "cells": [
    {
      "cell_type": "markdown",
      "metadata": {
        "id": "view-in-github",
        "colab_type": "text"
      },
      "source": [
        "<a href=\"https://colab.research.google.com/github/ramsoi53/ramsoi/blob/main/%EC%97%85%EB%AC%B4%EC%9E%90%EB%8F%99%ED%99%94.ipynb\" target=\"_parent\"><img src=\"https://colab.research.google.com/assets/colab-badge.svg\" alt=\"Open In Colab\"/></a>"
      ]
    },
    {
      "cell_type": "code",
      "execution_count": 1,
      "metadata": {
        "id": "1qbjsdDOsfDQ"
      },
      "outputs": [],
      "source": [
        "import openpyxl"
      ]
    },
    {
      "cell_type": "code",
      "source": [
        "from openpyxl import Workbook"
      ],
      "metadata": {
        "id": "v9BkKS4quO2N"
      },
      "execution_count": 4,
      "outputs": []
    },
    {
      "cell_type": "markdown",
      "source": [
        "# 엑셀 파일 하나 만드는 법"
      ],
      "metadata": {
        "id": "Fz9ygKfTvG7O"
      }
    },
    {
      "cell_type": "code",
      "source": [
        "# wb = Workbook() #새 워크북 생성(엑셀파일이라 보면 됨)\n",
        "# ws = wb.active # 현재 활성화된 sheet 가져옴\n",
        "# ws.title = 'NadoSheet' #sheet의 이름 변경\n",
        "# wb.save('sample.xlsx') # sample을 파일명으로 엑셀파일 저장\n",
        "# wb.close()"
      ],
      "metadata": {
        "id": "Zj6hbJAOuVVE"
      },
      "execution_count": 6,
      "outputs": []
    },
    {
      "cell_type": "markdown",
      "source": [
        "# 시트 추가하고 시트 색상 변경"
      ],
      "metadata": {
        "id": "i14d4C0rwPfN"
      }
    },
    {
      "cell_type": "code",
      "source": [
        "wb=Workbook()\n",
        "ws = wb.create_sheet() # 새로운 sheet 하나를 기본 이름으로 생성. 즉 sheet1\n",
        "ws.title = \"Mysheet\" # shett이름 변경\n",
        "ws.sheet_properties.tabColor = \"ff0000\" # RGB 형태로 값을 넣어주면 SHEET 색상 변경\n",
        "ws1 = wb.create_sheet(\"Yoursheet\") # 주어진 이름으로 sheet 생성\n",
        "ws2 = wb.create_sheet(\"Newsheet\", index=2) # 2번째 index에 sheet 생성\n",
        "\n",
        "new_ws = wb[\"Newsheet\"] # Dict 형태로 sheet에 접근\n",
        "print(wb.sheetnames) # 전체 sheet 이름 확인\n",
        "#sheet 복사\n",
        "ㅜ\n",
        "wb.save(\"sample.xlsx\")"
      ],
      "metadata": {
        "colab": {
          "base_uri": "https://localhost:8080/"
        },
        "id": "BLK6b1uIuZCN",
        "outputId": "45740eb1-5fee-489f-9721-e35bdd4daad7"
      },
      "execution_count": 13,
      "outputs": [
        {
          "output_type": "stream",
          "name": "stdout",
          "text": [
            "['Sheet', 'Mysheet', 'Newsheet', 'Yoursheet']\n"
          ]
        }
      ]
    },
    {
      "cell_type": "code",
      "source": [
        ""
      ],
      "metadata": {
        "id": "QOzS9kAuuzcc"
      },
      "execution_count": null,
      "outputs": []
    }
  ]
}