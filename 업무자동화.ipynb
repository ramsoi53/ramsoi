{
  "nbformat": 4,
  "nbformat_minor": 0,
  "metadata": {
    "colab": {
      "name": "업무자동화.ipynb",
      "provenance": [],
      "mount_file_id": "1ne4MvKeqgQ9H6LY1vslFAt_QCDNFKHqJ",
      "authorship_tag": "ABX9TyPjM+nGNN+e33gBDA6zZsdS",
      "include_colab_link": true
    },
    "kernelspec": {
      "name": "python3",
      "display_name": "Python 3"
    },
    "language_info": {
      "name": "python"
    }
  },
  "cells": [
    {
      "cell_type": "markdown",
      "metadata": {
        "id": "view-in-github",
        "colab_type": "text"
      },
      "source": [
        "<a href=\"https://colab.research.google.com/github/ramsoi53/ramsoi/blob/main/%EC%97%85%EB%AC%B4%EC%9E%90%EB%8F%99%ED%99%94.ipynb\" target=\"_parent\"><img src=\"https://colab.research.google.com/assets/colab-badge.svg\" alt=\"Open In Colab\"/></a>"
      ]
    },
    {
      "cell_type": "code",
      "execution_count": null,
      "metadata": {
        "id": "1qbjsdDOsfDQ"
      },
      "outputs": [],
      "source": [
        "import openpyxl"
      ]
    },
    {
      "cell_type": "code",
      "source": [
        "from openpyxl import Workbook"
      ],
      "metadata": {
        "id": "v9BkKS4quO2N"
      },
      "execution_count": null,
      "outputs": []
    },
    {
      "cell_type": "markdown",
      "source": [
        "# 엑셀 파일 하나 만드는 법"
      ],
      "metadata": {
        "id": "Fz9ygKfTvG7O"
      }
    },
    {
      "cell_type": "code",
      "source": [
        "# wb = Workbook() #새 워크북 생성(엑셀파일이라 보면 됨)\n",
        "# ws = wb.active # 현재 활성화된 sheet 가져옴\n",
        "# ws.title = 'NadoSheet' #sheet의 이름 변경\n",
        "# wb.save('sample.xlsx') # sample을 파일명으로 엑셀파일 저장\n",
        "# wb.close()"
      ],
      "metadata": {
        "id": "Zj6hbJAOuVVE"
      },
      "execution_count": null,
      "outputs": []
    },
    {
      "cell_type": "markdown",
      "source": [
        "# 시트 추가하고 시트 색상 변경"
      ],
      "metadata": {
        "id": "i14d4C0rwPfN"
      }
    },
    {
      "cell_type": "code",
      "source": [
        "# wb=Workbook()\n",
        "# ws = wb.create_sheet() # 새로운 sheet 하나를 기본 이름으로 생성. 즉 sheet1\n",
        "# ws.title = \"Mysheet\" # shett이름 변경\n",
        "# ws.sheet_properties.tabColor = \"ff0000\" # RGB 형태로 값을 넣어주면 SHEET 색상 변경\n",
        "# ws1 = wb.create_sheet(\"Yoursheet\") # 주어진 이름으로 sheet 생성\n",
        "# ws2 = wb.create_sheet(\"Newsheet\", index=2) # 2번째 index에 sheet 생성\n",
        "\n",
        "# new_ws = wb[\"Newsheet\"] # Dict 형태로 sheet에 접근\n",
        "# print(wb.sheetnames) # 전체 sheet 이름 확인\n",
        "# #sheet 복사\n",
        "\n",
        "# #Sheet 복사\n",
        "# new_ws['A1'] = 'Test' # 여기서 A1은 A컬럼 1 ROW의미\n",
        "# target = wb.copy_worksheet(new_ws)\n",
        "# target.title = 'Copied Sheet'\n",
        "\n",
        "# wb.save(\"sample.xlsx\")"
      ],
      "metadata": {
        "colab": {
          "base_uri": "https://localhost:8080/"
        },
        "id": "BLK6b1uIuZCN",
        "outputId": "86736b6a-5d88-48c8-ab41-d645e38097c0"
      },
      "execution_count": null,
      "outputs": [
        {
          "output_type": "stream",
          "name": "stdout",
          "text": [
            "['Sheet', 'Mysheet', 'Newsheet', 'Yoursheet']\n"
          ]
        }
      ]
    },
    {
      "cell_type": "markdown",
      "source": [
        "# 셀 기본"
      ],
      "metadata": {
        "id": "ST9Xq5tCa5h5"
      }
    },
    {
      "cell_type": "code",
      "source": [
        "wb = Workbook()\n",
        "ws = wb.active # 현재 활성화된 sheet 가져옴\n",
        "ws.title = 'NadoSheet'\n",
        "wb.save('sample1.xlsx') # sample을 파일명으로 엑셀파일 저장\n",
        "wb.close()\n",
        "\n",
        "# # A1 셀에 1이라는 값을 입력\n",
        "# ws[\"A1\"] = 1\n",
        "# ws[\"A2\"] = 2\n",
        "# ws[\"A3\"] = 3\n",
        "\n",
        "# ws[\"B1\"] = 4\n",
        "# ws[\"B2\"] = 5\n",
        "# ws[\"B3\"] = 6\n",
        "\n",
        "# print(ws[\"A1\"]) #A1 셀의 정보를 출력\n",
        "# print(ws[\"A1\"].value)# A1 셀의 값을 출력\n",
        "\n",
        "# print(ws.cell(row=1, column=1).value) #A1과 동일한 위치\n",
        "\n",
        "# ws.cell(column=3, row=1, value=10)#ws C1에 10 값을 집어넣었음\n",
        "\n",
        "# from random import *\n",
        "# #반복문을 이요해서 랜덤 숫자 채우기\n",
        "# index = 1 #컬럼 인덱스 붙일때만\n",
        "# for x in range(1,11): #10개 row\n",
        "#   for y in range(1,11): #10개 column\n",
        "#       ws.cell(row=x, column=y, value=randint(0,100))\n",
        "#       ws.cell(row=x, column=y, value=index))\n",
        "#       index+=1\n",
        "\n",
        "wb.save(\"sample1.xlsx\") \n"
      ],
      "metadata": {
        "id": "QOzS9kAuuzcc",
        "colab": {
          "base_uri": "https://localhost:8080/"
        },
        "outputId": "525c7436-99db-4031-8697-9fcdb8f6b6af"
      },
      "execution_count": null,
      "outputs": [
        {
          "output_type": "stream",
          "name": "stdout",
          "text": [
            "<Cell 'NadoSheet'.A1>\n",
            "1\n",
            "1\n"
          ]
        }
      ]
    },
    {
      "cell_type": "markdown",
      "source": [
        "# **파일 열기**"
      ],
      "metadata": {
        "id": "JU-1JT3Qie6P"
      }
    },
    {
      "cell_type": "code",
      "source": [
        "# from openpyxl import load_workbook # 파일 불러오기\n",
        "# wb = load_workbook(\"/content/drive/MyDrive/Colab Notebooks/files/sample1.xlsx\") #wb 불러오기\n",
        "# ws = wb.active # 활성화된 sheet\n",
        "\n",
        "# #cell 데이터 불러오기\n",
        "# for x in range(1,11):\n",
        "#   for y in range(1,11):\n",
        "#     print(ws.cell(row=x, column=y).value, end=\" \") # 1 2 3 4 \n",
        "#   print()  # 줄바꿈 목적\n",
        "\n",
        "\n",
        "# # cell 갯수를 모를때\n",
        "# for x in range(1, ws.max_row):\n",
        "#   for y in range(1, ws.max_column+1):\n",
        "#      print(ws.cell(row=x, column=y).value, end=\" \") \n",
        "#   print()\n",
        "\n"
      ],
      "metadata": {
        "id": "RknBSfNPcR1i",
        "colab": {
          "base_uri": "https://localhost:8080/"
        },
        "outputId": "9f221d6d-bebd-442b-c21b-156df43d7834"
      },
      "execution_count": null,
      "outputs": [
        {
          "output_type": "stream",
          "name": "stdout",
          "text": [
            "17 18 42 44 86 29 85 99 61 19 \n",
            "34 28 45 71 19 90 29 89 63 40 \n",
            "45 90 17 2 92 14 45 0 25 81 \n",
            "22 59 54 94 51 90 3 66 46 38 \n",
            "47 80 17 10 66 48 19 19 81 60 \n",
            "46 21 56 35 79 64 62 17 79 93 \n",
            "6 97 33 17 13 72 28 96 94 57 \n",
            "50 46 38 19 33 57 19 86 59 34 \n",
            "62 66 2 97 99 74 73 78 67 50 \n",
            "96 57 94 62 11 36 40 41 55 49 \n",
            "17 18 42 44 86 29 85 99 61 19 \n",
            "34 28 45 71 19 90 29 89 63 40 \n",
            "45 90 17 2 92 14 45 0 25 81 \n",
            "22 59 54 94 51 90 3 66 46 38 \n",
            "47 80 17 10 66 48 19 19 81 60 \n",
            "46 21 56 35 79 64 62 17 79 93 \n",
            "6 97 33 17 13 72 28 96 94 57 \n",
            "50 46 38 19 33 57 19 86 59 34 \n",
            "62 66 2 97 99 74 73 78 67 50 \n"
          ]
        }
      ]
    },
    {
      "cell_type": "markdown",
      "source": [
        "# 셀영역1"
      ],
      "metadata": {
        "id": "-WJaemNvjvmD"
      }
    },
    {
      "cell_type": "code",
      "source": [
        "from openpyxl import Workbook\n",
        "from random import *\n",
        "wb = Workbook()\n",
        "ws=wb.active\n",
        "\n",
        "#1줄씩 데이터 넣기\n",
        "ws.append([\"번호\", \"영어\", \"수학\"])\n",
        "for i in range(1,11):\n",
        "  ws.append([i,randint(0,100), randint(0,100)])\n",
        "\n",
        "col_B = ws['B'] # 영어 컬럼만 가지고 오기\n",
        "# print(col_B)\n",
        "\n",
        "# for cell in col_B: # 각 셀에 있는 데이터만 가지고 온다.\n",
        "#   print(cell.value)\n",
        "\n",
        "# col_range = ws[\"B\":\"C\"] # 영어와 수학 점수 가지고 오기. 세미콜론인게 특징임\n",
        "# for cols in col_range:\n",
        "#   for cell in cols:\n",
        "#     print(cell.value)\n",
        "\n",
        "# row_title = ws[1] # 1번째 row만 가지고 오기\n",
        "# for cell in row_title:\n",
        "#   print(cell.value)\n",
        "\n",
        "\n",
        "# from openpyxl.utils.cell import coordinate_from_string\n",
        "# row_range = ws[2:ws.max_row] #2번째 줄부터 마지막 줄까지\n",
        "# for rows in row_range:\n",
        "#   for cell in rows:\n",
        "#     # print(cell.value, end=\" \")\n",
        "#     print(cell.coordinate, end=\" \") # A10, AZ250 위치의 정보를 가지고 오고자 하면 (예를들면)\n",
        "#     xy = coordinate_from_string(cell.coordinate)\n",
        "#     print(xy, end=\" \")\n",
        "\n",
        "  print()\n",
        "\n",
        "\n",
        "wb.save('sample1.xlsx')\n",
        "\n",
        "\n"
      ],
      "metadata": {
        "id": "YbL9aG57jAK2"
      },
      "execution_count": null,
      "outputs": []
    },
    {
      "cell_type": "code",
      "source": [
        "!pwd"
      ],
      "metadata": {
        "colab": {
          "base_uri": "https://localhost:8080/"
        },
        "id": "UCfVQ0ZPjyEL",
        "outputId": "02289b4c-5101-4512-b78f-c36cb91cc9c7"
      },
      "execution_count": 3,
      "outputs": [
        {
          "output_type": "stream",
          "name": "stdout",
          "text": [
            "/content\n"
          ]
        }
      ]
    },
    {
      "cell_type": "code",
      "source": [
        "# from google.colab import drive\n",
        "# drive.mount('/content/drive')"
      ],
      "metadata": {
        "id": "waL-kOEAquSg"
      },
      "execution_count": null,
      "outputs": []
    },
    {
      "cell_type": "code",
      "source": [
        "import os\n",
        "os.chdir('/content/drive/MyDrive/Colab Notebooks/files')"
      ],
      "metadata": {
        "id": "FAkpr-rDC5Bf"
      },
      "execution_count": 4,
      "outputs": []
    },
    {
      "cell_type": "code",
      "source": [
        "!pwd"
      ],
      "metadata": {
        "colab": {
          "base_uri": "https://localhost:8080/"
        },
        "id": "9RCfOfmODD0m",
        "outputId": "60265df7-bcaf-4336-ab50-58cde1bc3563"
      },
      "execution_count": 5,
      "outputs": [
        {
          "output_type": "stream",
          "name": "stdout",
          "text": [
            "/content/drive/MyDrive/Colab Notebooks/files\n"
          ]
        }
      ]
    },
    {
      "cell_type": "markdown",
      "source": [
        "# 셀 영역 2"
      ],
      "metadata": {
        "id": "aO91Yz2nFcHH"
      }
    },
    {
      "cell_type": "code",
      "source": [
        "# 전체 rows\n",
        "\n",
        "print(tuple(ws.rows))\n",
        "\n",
        "#  전체 columns\n",
        "print(tuple(ws.columns))\n",
        "\n",
        "for row in ws.iter_rows(min_row=2, max_row=11, min_col=2, max_col=3): #2번째 줄부터 11|번째 줄까지, 2번째 열부터 3번째 열까지\n",
        "  print(row[0].value, row[1].value)\n",
        "\n",
        "#1:02분부터 하면 됨."
      ],
      "metadata": {
        "id": "g-ZWjWGTDFKN",
        "colab": {
          "base_uri": "https://localhost:8080/"
        },
        "outputId": "b74c9aca-2a03-4b3f-e74c-2299fe00269b"
      },
      "execution_count": 20,
      "outputs": [
        {
          "output_type": "stream",
          "name": "stdout",
          "text": [
            "((<Cell 'Sheet'.A1>, <Cell 'Sheet'.B1>, <Cell 'Sheet'.C1>), (<Cell 'Sheet'.A2>, <Cell 'Sheet'.B2>, <Cell 'Sheet'.C2>), (<Cell 'Sheet'.A3>, <Cell 'Sheet'.B3>, <Cell 'Sheet'.C3>), (<Cell 'Sheet'.A4>, <Cell 'Sheet'.B4>, <Cell 'Sheet'.C4>), (<Cell 'Sheet'.A5>, <Cell 'Sheet'.B5>, <Cell 'Sheet'.C5>), (<Cell 'Sheet'.A6>, <Cell 'Sheet'.B6>, <Cell 'Sheet'.C6>), (<Cell 'Sheet'.A7>, <Cell 'Sheet'.B7>, <Cell 'Sheet'.C7>), (<Cell 'Sheet'.A8>, <Cell 'Sheet'.B8>, <Cell 'Sheet'.C8>), (<Cell 'Sheet'.A9>, <Cell 'Sheet'.B9>, <Cell 'Sheet'.C9>), (<Cell 'Sheet'.A10>, <Cell 'Sheet'.B10>, <Cell 'Sheet'.C10>), (<Cell 'Sheet'.A11>, <Cell 'Sheet'.B11>, <Cell 'Sheet'.C11>))\n",
            "((<Cell 'Sheet'.A1>, <Cell 'Sheet'.A2>, <Cell 'Sheet'.A3>, <Cell 'Sheet'.A4>, <Cell 'Sheet'.A5>, <Cell 'Sheet'.A6>, <Cell 'Sheet'.A7>, <Cell 'Sheet'.A8>, <Cell 'Sheet'.A9>, <Cell 'Sheet'.A10>, <Cell 'Sheet'.A11>), (<Cell 'Sheet'.B1>, <Cell 'Sheet'.B2>, <Cell 'Sheet'.B3>, <Cell 'Sheet'.B4>, <Cell 'Sheet'.B5>, <Cell 'Sheet'.B6>, <Cell 'Sheet'.B7>, <Cell 'Sheet'.B8>, <Cell 'Sheet'.B9>, <Cell 'Sheet'.B10>, <Cell 'Sheet'.B11>), (<Cell 'Sheet'.C1>, <Cell 'Sheet'.C2>, <Cell 'Sheet'.C3>, <Cell 'Sheet'.C4>, <Cell 'Sheet'.C5>, <Cell 'Sheet'.C6>, <Cell 'Sheet'.C7>, <Cell 'Sheet'.C8>, <Cell 'Sheet'.C9>, <Cell 'Sheet'.C10>, <Cell 'Sheet'.C11>))\n",
            "77 97\n",
            "25 31\n",
            "70 9\n",
            "7 64\n",
            "69 73\n",
            "19 86\n",
            "70 83\n",
            "31 51\n",
            "49 57\n",
            "60 9\n"
          ]
        }
      ]
    },
    {
      "cell_type": "code",
      "source": [
        ""
      ],
      "metadata": {
        "id": "Bl7POdp4FnLA"
      },
      "execution_count": null,
      "outputs": []
    }
  ]
}