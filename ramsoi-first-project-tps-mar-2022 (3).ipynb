{
 "cells": [
  {
   "cell_type": "code",
   "execution_count": 1,
   "id": "28744b72",
   "metadata": {
    "_cell_guid": "b1076dfc-b9ad-4769-8c92-a6c4dae69d19",
    "_uuid": "8f2839f25d086af736a60e9eeb907d3b93b6e0e5",
    "execution": {
     "iopub.execute_input": "2022-03-28T12:28:43.549750Z",
     "iopub.status.busy": "2022-03-28T12:28:43.548126Z",
     "iopub.status.idle": "2022-03-28T12:28:43.560227Z",
     "shell.execute_reply": "2022-03-28T12:28:43.561036Z",
     "shell.execute_reply.started": "2022-03-28T12:25:35.221973Z"
    },
    "papermill": {
     "duration": 0.039676,
     "end_time": "2022-03-28T12:28:43.561422",
     "exception": false,
     "start_time": "2022-03-28T12:28:43.521746",
     "status": "completed"
    },
    "tags": []
   },
   "outputs": [
    {
     "name": "stdout",
     "output_type": "stream",
     "text": [
      "/kaggle/input/tabular-playground-series-mar-2022/sample_submission.csv\n",
      "/kaggle/input/tabular-playground-series-mar-2022/train.csv\n",
      "/kaggle/input/tabular-playground-series-mar-2022/test.csv\n"
     ]
    }
   ],
   "source": [
    "import numpy as np \n",
    "import pandas as pd \n",
    "\n",
    "import os\n",
    "for dirname, _, filenames in os.walk('/kaggle/input'):\n",
    "    for filename in filenames:\n",
    "        print(os.path.join(dirname, filename))\n"
   ]
  },
  {
   "cell_type": "code",
   "execution_count": 2,
   "id": "be4237e3",
   "metadata": {
    "execution": {
     "iopub.execute_input": "2022-03-28T12:28:43.615561Z",
     "iopub.status.busy": "2022-03-28T12:28:43.614932Z",
     "iopub.status.idle": "2022-03-28T12:28:44.573597Z",
     "shell.execute_reply": "2022-03-28T12:28:44.574292Z",
     "shell.execute_reply.started": "2022-03-28T12:25:35.262300Z"
    },
    "papermill": {
     "duration": 0.989466,
     "end_time": "2022-03-28T12:28:44.574467",
     "exception": false,
     "start_time": "2022-03-28T12:28:43.585001",
     "status": "completed"
    },
    "tags": []
   },
   "outputs": [],
   "source": [
    "train_df = pd.read_csv('/kaggle/input/tabular-playground-series-mar-2022/train.csv', index_col=0)\n",
    "test_df = pd.read_csv('/kaggle/input/tabular-playground-series-mar-2022/test.csv',index_col=0)"
   ]
  },
  {
   "cell_type": "code",
   "execution_count": 3,
   "id": "5cce0590",
   "metadata": {
    "execution": {
     "iopub.execute_input": "2022-03-28T12:28:44.618585Z",
     "iopub.status.busy": "2022-03-28T12:28:44.617681Z",
     "iopub.status.idle": "2022-03-28T12:28:44.712885Z",
     "shell.execute_reply": "2022-03-28T12:28:44.713327Z",
     "shell.execute_reply.started": "2022-03-28T12:25:36.295219Z"
    },
    "papermill": {
     "duration": 0.119382,
     "end_time": "2022-03-28T12:28:44.713502",
     "exception": false,
     "start_time": "2022-03-28T12:28:44.594120",
     "status": "completed"
    },
    "tags": []
   },
   "outputs": [
    {
     "name": "stdout",
     "output_type": "stream",
     "text": [
      "<class 'pandas.core.frame.DataFrame'>\n",
      "Int64Index: 848835 entries, 0 to 848834\n",
      "Data columns (total 5 columns):\n",
      " #   Column      Non-Null Count   Dtype \n",
      "---  ------      --------------   ----- \n",
      " 0   time        848835 non-null  object\n",
      " 1   x           848835 non-null  int64 \n",
      " 2   y           848835 non-null  int64 \n",
      " 3   direction   848835 non-null  object\n",
      " 4   congestion  848835 non-null  int64 \n",
      "dtypes: int64(3), object(2)\n",
      "memory usage: 38.9+ MB\n"
     ]
    }
   ],
   "source": [
    "train_df.info()"
   ]
  },
  {
   "cell_type": "markdown",
   "id": "d3687070",
   "metadata": {
    "papermill": {
     "duration": 0.0198,
     "end_time": "2022-03-28T12:28:44.753174",
     "exception": false,
     "start_time": "2022-03-28T12:28:44.733374",
     "status": "completed"
    },
    "tags": []
   },
   "source": [
    "# #Data Preprocessing\n",
    "# 1. x, y, direction => 비슷한 위치 value니까 하나로 합친 후 encoding 수행\n",
    "# 2. Time -> 주말/주중으로 구분"
   ]
  },
  {
   "cell_type": "code",
   "execution_count": 4,
   "id": "1991ee42",
   "metadata": {
    "execution": {
     "iopub.execute_input": "2022-03-28T12:28:44.796691Z",
     "iopub.status.busy": "2022-03-28T12:28:44.796139Z",
     "iopub.status.idle": "2022-03-28T12:28:44.810914Z",
     "shell.execute_reply": "2022-03-28T12:28:44.811358Z",
     "shell.execute_reply.started": "2022-03-28T12:25:36.506647Z"
    },
    "papermill": {
     "duration": 0.038274,
     "end_time": "2022-03-28T12:28:44.811519",
     "exception": false,
     "start_time": "2022-03-28T12:28:44.773245",
     "status": "completed"
    },
    "tags": []
   },
   "outputs": [
    {
     "data": {
      "text/html": [
       "<div>\n",
       "<style scoped>\n",
       "    .dataframe tbody tr th:only-of-type {\n",
       "        vertical-align: middle;\n",
       "    }\n",
       "\n",
       "    .dataframe tbody tr th {\n",
       "        vertical-align: top;\n",
       "    }\n",
       "\n",
       "    .dataframe thead th {\n",
       "        text-align: right;\n",
       "    }\n",
       "</style>\n",
       "<table border=\"1\" class=\"dataframe\">\n",
       "  <thead>\n",
       "    <tr style=\"text-align: right;\">\n",
       "      <th></th>\n",
       "      <th>time</th>\n",
       "      <th>x</th>\n",
       "      <th>y</th>\n",
       "      <th>direction</th>\n",
       "      <th>congestion</th>\n",
       "    </tr>\n",
       "    <tr>\n",
       "      <th>row_id</th>\n",
       "      <th></th>\n",
       "      <th></th>\n",
       "      <th></th>\n",
       "      <th></th>\n",
       "      <th></th>\n",
       "    </tr>\n",
       "  </thead>\n",
       "  <tbody>\n",
       "    <tr>\n",
       "      <th>0</th>\n",
       "      <td>1991-04-01 00:00:00</td>\n",
       "      <td>0</td>\n",
       "      <td>0</td>\n",
       "      <td>EB</td>\n",
       "      <td>70</td>\n",
       "    </tr>\n",
       "    <tr>\n",
       "      <th>1</th>\n",
       "      <td>1991-04-01 00:00:00</td>\n",
       "      <td>0</td>\n",
       "      <td>0</td>\n",
       "      <td>NB</td>\n",
       "      <td>49</td>\n",
       "    </tr>\n",
       "    <tr>\n",
       "      <th>2</th>\n",
       "      <td>1991-04-01 00:00:00</td>\n",
       "      <td>0</td>\n",
       "      <td>0</td>\n",
       "      <td>SB</td>\n",
       "      <td>24</td>\n",
       "    </tr>\n",
       "    <tr>\n",
       "      <th>3</th>\n",
       "      <td>1991-04-01 00:00:00</td>\n",
       "      <td>0</td>\n",
       "      <td>1</td>\n",
       "      <td>EB</td>\n",
       "      <td>18</td>\n",
       "    </tr>\n",
       "    <tr>\n",
       "      <th>4</th>\n",
       "      <td>1991-04-01 00:00:00</td>\n",
       "      <td>0</td>\n",
       "      <td>1</td>\n",
       "      <td>NB</td>\n",
       "      <td>60</td>\n",
       "    </tr>\n",
       "  </tbody>\n",
       "</table>\n",
       "</div>"
      ],
      "text/plain": [
       "                       time  x  y direction  congestion\n",
       "row_id                                                 \n",
       "0       1991-04-01 00:00:00  0  0        EB          70\n",
       "1       1991-04-01 00:00:00  0  0        NB          49\n",
       "2       1991-04-01 00:00:00  0  0        SB          24\n",
       "3       1991-04-01 00:00:00  0  1        EB          18\n",
       "4       1991-04-01 00:00:00  0  1        NB          60"
      ]
     },
     "execution_count": 4,
     "metadata": {},
     "output_type": "execute_result"
    }
   ],
   "source": [
    "train_df.head()"
   ]
  },
  {
   "cell_type": "code",
   "execution_count": 5,
   "id": "6718466c",
   "metadata": {
    "execution": {
     "iopub.execute_input": "2022-03-28T12:28:44.856211Z",
     "iopub.status.busy": "2022-03-28T12:28:44.855297Z",
     "iopub.status.idle": "2022-03-28T12:28:45.326313Z",
     "shell.execute_reply": "2022-03-28T12:28:45.326809Z",
     "shell.execute_reply.started": "2022-03-28T12:25:36.528191Z"
    },
    "papermill": {
     "duration": 0.495149,
     "end_time": "2022-03-28T12:28:45.326984",
     "exception": false,
     "start_time": "2022-03-28T12:28:44.831835",
     "status": "completed"
    },
    "tags": []
   },
   "outputs": [
    {
     "data": {
      "text/html": [
       "<div>\n",
       "<style scoped>\n",
       "    .dataframe tbody tr th:only-of-type {\n",
       "        vertical-align: middle;\n",
       "    }\n",
       "\n",
       "    .dataframe tbody tr th {\n",
       "        vertical-align: top;\n",
       "    }\n",
       "\n",
       "    .dataframe thead th {\n",
       "        text-align: right;\n",
       "    }\n",
       "</style>\n",
       "<table border=\"1\" class=\"dataframe\">\n",
       "  <thead>\n",
       "    <tr style=\"text-align: right;\">\n",
       "      <th></th>\n",
       "      <th>time</th>\n",
       "      <th>x</th>\n",
       "      <th>y</th>\n",
       "      <th>direction</th>\n",
       "      <th>congestion</th>\n",
       "      <th>month</th>\n",
       "      <th>day</th>\n",
       "      <th>hour</th>\n",
       "      <th>minute</th>\n",
       "    </tr>\n",
       "    <tr>\n",
       "      <th>row_id</th>\n",
       "      <th></th>\n",
       "      <th></th>\n",
       "      <th></th>\n",
       "      <th></th>\n",
       "      <th></th>\n",
       "      <th></th>\n",
       "      <th></th>\n",
       "      <th></th>\n",
       "      <th></th>\n",
       "    </tr>\n",
       "  </thead>\n",
       "  <tbody>\n",
       "    <tr>\n",
       "      <th>0</th>\n",
       "      <td>1991-04-01</td>\n",
       "      <td>0</td>\n",
       "      <td>0</td>\n",
       "      <td>EB</td>\n",
       "      <td>70</td>\n",
       "      <td>4</td>\n",
       "      <td>1</td>\n",
       "      <td>0</td>\n",
       "      <td>0</td>\n",
       "    </tr>\n",
       "    <tr>\n",
       "      <th>1</th>\n",
       "      <td>1991-04-01</td>\n",
       "      <td>0</td>\n",
       "      <td>0</td>\n",
       "      <td>NB</td>\n",
       "      <td>49</td>\n",
       "      <td>4</td>\n",
       "      <td>1</td>\n",
       "      <td>0</td>\n",
       "      <td>0</td>\n",
       "    </tr>\n",
       "    <tr>\n",
       "      <th>2</th>\n",
       "      <td>1991-04-01</td>\n",
       "      <td>0</td>\n",
       "      <td>0</td>\n",
       "      <td>SB</td>\n",
       "      <td>24</td>\n",
       "      <td>4</td>\n",
       "      <td>1</td>\n",
       "      <td>0</td>\n",
       "      <td>0</td>\n",
       "    </tr>\n",
       "    <tr>\n",
       "      <th>3</th>\n",
       "      <td>1991-04-01</td>\n",
       "      <td>0</td>\n",
       "      <td>1</td>\n",
       "      <td>EB</td>\n",
       "      <td>18</td>\n",
       "      <td>4</td>\n",
       "      <td>1</td>\n",
       "      <td>0</td>\n",
       "      <td>0</td>\n",
       "    </tr>\n",
       "    <tr>\n",
       "      <th>4</th>\n",
       "      <td>1991-04-01</td>\n",
       "      <td>0</td>\n",
       "      <td>1</td>\n",
       "      <td>NB</td>\n",
       "      <td>60</td>\n",
       "      <td>4</td>\n",
       "      <td>1</td>\n",
       "      <td>0</td>\n",
       "      <td>0</td>\n",
       "    </tr>\n",
       "  </tbody>\n",
       "</table>\n",
       "</div>"
      ],
      "text/plain": [
       "             time  x  y direction  congestion  month  day  hour  minute\n",
       "row_id                                                                 \n",
       "0      1991-04-01  0  0        EB          70      4    1     0       0\n",
       "1      1991-04-01  0  0        NB          49      4    1     0       0\n",
       "2      1991-04-01  0  0        SB          24      4    1     0       0\n",
       "3      1991-04-01  0  1        EB          18      4    1     0       0\n",
       "4      1991-04-01  0  1        NB          60      4    1     0       0"
      ]
     },
     "execution_count": 5,
     "metadata": {},
     "output_type": "execute_result"
    }
   ],
   "source": [
    "#time이 dtype이 object니까 timedata로 바꾸자.\n",
    "\n",
    "train_df['time'] = pd.to_datetime(train_df['time'])\n",
    "train_df['month'] = train_df['time'].dt.month\n",
    "train_df['day'] = train_df['time'].dt.day\n",
    "train_df['hour'] = train_df['time'].dt.hour\n",
    "train_df['minute'] = train_df['time'].dt.minute\n",
    "\n",
    "train_df.head()\n"
   ]
  },
  {
   "cell_type": "code",
   "execution_count": 6,
   "id": "f8d12ce1",
   "metadata": {
    "execution": {
     "iopub.execute_input": "2022-03-28T12:28:45.376420Z",
     "iopub.status.busy": "2022-03-28T12:28:45.372322Z",
     "iopub.status.idle": "2022-03-28T12:28:45.802567Z",
     "shell.execute_reply": "2022-03-28T12:28:45.802010Z",
     "shell.execute_reply.started": "2022-03-28T12:25:37.071880Z"
    },
    "papermill": {
     "duration": 0.453645,
     "end_time": "2022-03-28T12:28:45.802713",
     "exception": false,
     "start_time": "2022-03-28T12:28:45.349068",
     "status": "completed"
    },
    "tags": []
   },
   "outputs": [
    {
     "data": {
      "text/plain": [
       "row_id\n",
       "0        1900-01-01 00:00:00\n",
       "1        1900-01-01 00:00:00\n",
       "2        1900-01-01 00:00:00\n",
       "3        1900-01-01 00:00:00\n",
       "4        1900-01-01 00:00:00\n",
       "                 ...        \n",
       "848830   1900-01-01 00:40:00\n",
       "848831   1900-01-01 00:40:00\n",
       "848832   1900-01-01 00:40:00\n",
       "848833   1900-01-01 00:40:00\n",
       "848834   1900-01-01 00:40:00\n",
       "Name: minute, Length: 848835, dtype: datetime64[ns]"
      ]
     },
     "execution_count": 6,
     "metadata": {},
     "output_type": "execute_result"
    }
   ],
   "source": [
    "train_df['month'] = train_df['time'].dt.month.astype(int)\n",
    "pd.to_datetime(train_df['month'], format='%m')\n",
    "train_df['day'] = train_df['time'].dt.day.astype(int)\n",
    "pd.to_datetime(train_df['day'],format='%d')\n",
    "train_df['hour'] = train_df['time'].dt.hour.astype(int)\n",
    "pd.to_datetime(train_df['hour'],format='%H')\n",
    "train_df['minute'] = train_df['time'].dt.minute.astype(int)\n",
    "pd.to_datetime(train_df['minute'],format='%M')\n"
   ]
  },
  {
   "cell_type": "code",
   "execution_count": 7,
   "id": "599eb94b",
   "metadata": {
    "execution": {
     "iopub.execute_input": "2022-03-28T12:28:45.853465Z",
     "iopub.status.busy": "2022-03-28T12:28:45.852815Z",
     "iopub.status.idle": "2022-03-28T12:28:49.831089Z",
     "shell.execute_reply": "2022-03-28T12:28:49.830544Z",
     "shell.execute_reply.started": "2022-03-28T12:25:37.496332Z"
    },
    "papermill": {
     "duration": 4.006822,
     "end_time": "2022-03-28T12:28:49.831222",
     "exception": false,
     "start_time": "2022-03-28T12:28:45.824400",
     "status": "completed"
    },
    "tags": []
   },
   "outputs": [],
   "source": [
    "train_df['dayofweek'] = train_df['time'].apply(lambda x: x.weekday()) #0 means Monday..\n",
    "#주중, 주말 0 means weekday, 1 means weekend\n",
    "train_df['weekday_weekend'] = train_df['dayofweek'].apply(lambda x: 0 if 0<= x <=4 else 1)\n",
    "\n",
    "train_df.drop(columns = ['time','month', 'day'], inplace = True)"
   ]
  },
  {
   "cell_type": "code",
   "execution_count": 8,
   "id": "d24dc9ed",
   "metadata": {
    "execution": {
     "iopub.execute_input": "2022-03-28T12:28:49.892066Z",
     "iopub.status.busy": "2022-03-28T12:28:49.891163Z",
     "iopub.status.idle": "2022-03-28T12:28:49.895008Z",
     "shell.execute_reply": "2022-03-28T12:28:49.894492Z",
     "shell.execute_reply.started": "2022-03-28T12:25:44.092883Z"
    },
    "papermill": {
     "duration": 0.041852,
     "end_time": "2022-03-28T12:28:49.895140",
     "exception": false,
     "start_time": "2022-03-28T12:28:49.853288",
     "status": "completed"
    },
    "tags": []
   },
   "outputs": [
    {
     "data": {
      "text/plain": [
       "0    124020\n",
       "6    121680\n",
       "4    121290\n",
       "1    121225\n",
       "2    121095\n",
       "5    119925\n",
       "3    119600\n",
       "Name: dayofweek, dtype: int64"
      ]
     },
     "execution_count": 8,
     "metadata": {},
     "output_type": "execute_result"
    }
   ],
   "source": [
    "train_df['weekday_weekend'].value_counts()\n",
    "train_df['dayofweek'].value_counts()"
   ]
  },
  {
   "cell_type": "code",
   "execution_count": 9,
   "id": "8be2c025",
   "metadata": {
    "execution": {
     "iopub.execute_input": "2022-03-28T12:28:49.941746Z",
     "iopub.status.busy": "2022-03-28T12:28:49.941140Z",
     "iopub.status.idle": "2022-03-28T12:28:49.980641Z",
     "shell.execute_reply": "2022-03-28T12:28:49.981216Z",
     "shell.execute_reply.started": "2022-03-28T12:25:44.118188Z"
    },
    "papermill": {
     "duration": 0.064436,
     "end_time": "2022-03-28T12:28:49.981384",
     "exception": false,
     "start_time": "2022-03-28T12:28:49.916948",
     "status": "completed"
    },
    "tags": []
   },
   "outputs": [
    {
     "data": {
      "text/html": [
       "<div>\n",
       "<style scoped>\n",
       "    .dataframe tbody tr th:only-of-type {\n",
       "        vertical-align: middle;\n",
       "    }\n",
       "\n",
       "    .dataframe tbody tr th {\n",
       "        vertical-align: top;\n",
       "    }\n",
       "\n",
       "    .dataframe thead th {\n",
       "        text-align: right;\n",
       "    }\n",
       "</style>\n",
       "<table border=\"1\" class=\"dataframe\">\n",
       "  <thead>\n",
       "    <tr style=\"text-align: right;\">\n",
       "      <th></th>\n",
       "      <th>x</th>\n",
       "      <th>y</th>\n",
       "      <th>direction</th>\n",
       "      <th>hour</th>\n",
       "      <th>minute</th>\n",
       "      <th>dayofweek</th>\n",
       "      <th>weekday_weekend</th>\n",
       "    </tr>\n",
       "    <tr>\n",
       "      <th>row_id</th>\n",
       "      <th></th>\n",
       "      <th></th>\n",
       "      <th></th>\n",
       "      <th></th>\n",
       "      <th></th>\n",
       "      <th></th>\n",
       "      <th></th>\n",
       "    </tr>\n",
       "  </thead>\n",
       "  <tbody>\n",
       "    <tr>\n",
       "      <th>848835</th>\n",
       "      <td>0</td>\n",
       "      <td>0</td>\n",
       "      <td>EB</td>\n",
       "      <td>12</td>\n",
       "      <td>0</td>\n",
       "      <td>0</td>\n",
       "      <td>0</td>\n",
       "    </tr>\n",
       "    <tr>\n",
       "      <th>848836</th>\n",
       "      <td>0</td>\n",
       "      <td>0</td>\n",
       "      <td>NB</td>\n",
       "      <td>12</td>\n",
       "      <td>0</td>\n",
       "      <td>0</td>\n",
       "      <td>0</td>\n",
       "    </tr>\n",
       "    <tr>\n",
       "      <th>848837</th>\n",
       "      <td>0</td>\n",
       "      <td>0</td>\n",
       "      <td>SB</td>\n",
       "      <td>12</td>\n",
       "      <td>0</td>\n",
       "      <td>0</td>\n",
       "      <td>0</td>\n",
       "    </tr>\n",
       "    <tr>\n",
       "      <th>848838</th>\n",
       "      <td>0</td>\n",
       "      <td>1</td>\n",
       "      <td>EB</td>\n",
       "      <td>12</td>\n",
       "      <td>0</td>\n",
       "      <td>0</td>\n",
       "      <td>0</td>\n",
       "    </tr>\n",
       "    <tr>\n",
       "      <th>848839</th>\n",
       "      <td>0</td>\n",
       "      <td>1</td>\n",
       "      <td>NB</td>\n",
       "      <td>12</td>\n",
       "      <td>0</td>\n",
       "      <td>0</td>\n",
       "      <td>0</td>\n",
       "    </tr>\n",
       "  </tbody>\n",
       "</table>\n",
       "</div>"
      ],
      "text/plain": [
       "        x  y direction  hour  minute  dayofweek  weekday_weekend\n",
       "row_id                                                          \n",
       "848835  0  0        EB    12       0          0                0\n",
       "848836  0  0        NB    12       0          0                0\n",
       "848837  0  0        SB    12       0          0                0\n",
       "848838  0  1        EB    12       0          0                0\n",
       "848839  0  1        NB    12       0          0                0"
      ]
     },
     "execution_count": 9,
     "metadata": {},
     "output_type": "execute_result"
    }
   ],
   "source": [
    "test_df['time'] = pd.to_datetime(test_df['time'])\n",
    "test_df['month'] = test_df['time'].dt.month\n",
    "test_df['day'] = test_df['time'].dt.day\n",
    "test_df['hour'] = test_df['time'].dt.hour\n",
    "test_df['minute'] = test_df['time'].dt.minute\n",
    "\n",
    "test_df['month'] = test_df['time'].dt.month.astype(int)\n",
    "pd.to_datetime(test_df['month'], format='%m')\n",
    "test_df['day'] = test_df['time'].dt.day.astype(int)\n",
    "pd.to_datetime(test_df['day'], format='%d')\n",
    "test_df['hour'] = test_df['time'].dt.hour.astype(int)\n",
    "pd.to_datetime(test_df['hour'],format='%H')\n",
    "test_df['minute'] = test_df['time'].dt.minute.astype(int)\n",
    "pd.to_datetime(test_df['minute'],format='%M')\n",
    "\n",
    "test_df['dayofweek'] = test_df['time'].apply(lambda x: x.weekday()) #0 means Monday..\n",
    "#주중, 주말 0 means weekday, 1 means weekend\n",
    "test_df['weekday_weekend'] = test_df['dayofweek'].apply(lambda x: 0 if 0<= x <=4 else 1)\n",
    "\n",
    "test_df.drop(columns = ['time', 'month', 'day'], inplace = True)\n",
    "\n",
    "test_df.head()"
   ]
  },
  {
   "cell_type": "markdown",
   "id": "72169e74",
   "metadata": {
    "papermill": {
     "duration": 0.021776,
     "end_time": "2022-03-28T12:28:50.026571",
     "exception": false,
     "start_time": "2022-03-28T12:28:50.004795",
     "status": "completed"
    },
    "tags": []
   },
   "source": [
    "# Direction과 x,y 합쳤다가 망했으니 그러지 말자."
   ]
  },
  {
   "cell_type": "markdown",
   "id": "7b848132",
   "metadata": {
    "papermill": {
     "duration": 0.022763,
     "end_time": "2022-03-28T12:28:50.071547",
     "exception": false,
     "start_time": "2022-03-28T12:28:50.048784",
     "status": "completed"
    },
    "tags": []
   },
   "source": [
    "# Encoding Time!"
   ]
  },
  {
   "cell_type": "code",
   "execution_count": 10,
   "id": "7021e296",
   "metadata": {
    "execution": {
     "iopub.execute_input": "2022-03-28T12:28:50.119122Z",
     "iopub.status.busy": "2022-03-28T12:28:50.118517Z",
     "iopub.status.idle": "2022-03-28T12:28:51.205569Z",
     "shell.execute_reply": "2022-03-28T12:28:51.205014Z",
     "shell.execute_reply.started": "2022-03-28T12:25:44.182458Z"
    },
    "papermill": {
     "duration": 1.111808,
     "end_time": "2022-03-28T12:28:51.205703",
     "exception": false,
     "start_time": "2022-03-28T12:28:50.093895",
     "status": "completed"
    },
    "tags": []
   },
   "outputs": [],
   "source": [
    "from sklearn.preprocessing import LabelEncoder\n",
    "encoder = LabelEncoder()\n",
    "encoded = encoder.fit_transform(train_df['direction'])\n",
    "train_df['direction'] = encoded\n",
    "\n",
    "\n"
   ]
  },
  {
   "cell_type": "code",
   "execution_count": 11,
   "id": "f7339f81",
   "metadata": {
    "execution": {
     "iopub.execute_input": "2022-03-28T12:28:51.257415Z",
     "iopub.status.busy": "2022-03-28T12:28:51.256656Z",
     "iopub.status.idle": "2022-03-28T12:28:51.260363Z",
     "shell.execute_reply": "2022-03-28T12:28:51.259921Z",
     "shell.execute_reply.started": "2022-03-28T12:25:45.662485Z"
    },
    "papermill": {
     "duration": 0.032304,
     "end_time": "2022-03-28T12:28:51.260495",
     "exception": false,
     "start_time": "2022-03-28T12:28:51.228191",
     "status": "completed"
    },
    "tags": []
   },
   "outputs": [
    {
     "data": {
      "text/plain": [
       "2    936\n",
       "1    792\n",
       "0    612\n",
       "Name: x, dtype: int64"
      ]
     },
     "execution_count": 11,
     "metadata": {},
     "output_type": "execute_result"
    }
   ],
   "source": [
    "test_df['x'].value_counts()\n"
   ]
  },
  {
   "cell_type": "code",
   "execution_count": 12,
   "id": "35b8a0ed",
   "metadata": {
    "execution": {
     "iopub.execute_input": "2022-03-28T12:28:51.312057Z",
     "iopub.status.busy": "2022-03-28T12:28:51.311156Z",
     "iopub.status.idle": "2022-03-28T12:28:51.313739Z",
     "shell.execute_reply": "2022-03-28T12:28:51.314147Z",
     "shell.execute_reply.started": "2022-03-28T12:25:45.672374Z"
    },
    "papermill": {
     "duration": 0.031382,
     "end_time": "2022-03-28T12:28:51.314320",
     "exception": false,
     "start_time": "2022-03-28T12:28:51.282938",
     "status": "completed"
    },
    "tags": []
   },
   "outputs": [],
   "source": [
    "test_df['direction'] = encoder.transform(test_df['direction'])"
   ]
  },
  {
   "cell_type": "markdown",
   "id": "f7045f25",
   "metadata": {
    "papermill": {
     "duration": 0.021816,
     "end_time": "2022-03-28T12:28:51.358421",
     "exception": false,
     "start_time": "2022-03-28T12:28:51.336605",
     "status": "completed"
    },
    "tags": []
   },
   "source": [
    "# DATA SPLIT"
   ]
  },
  {
   "cell_type": "code",
   "execution_count": 13,
   "id": "306692c3",
   "metadata": {
    "execution": {
     "iopub.execute_input": "2022-03-28T12:28:51.406843Z",
     "iopub.status.busy": "2022-03-28T12:28:51.406183Z",
     "iopub.status.idle": "2022-03-28T12:28:51.575423Z",
     "shell.execute_reply": "2022-03-28T12:28:51.574856Z",
     "shell.execute_reply.started": "2022-03-28T12:25:45.687872Z"
    },
    "papermill": {
     "duration": 0.194524,
     "end_time": "2022-03-28T12:28:51.575569",
     "exception": false,
     "start_time": "2022-03-28T12:28:51.381045",
     "status": "completed"
    },
    "tags": []
   },
   "outputs": [],
   "source": [
    "from sklearn.model_selection import train_test_split\n",
    "y_train_df = train_df['congestion']\n",
    "X_train_df = train_df.drop('congestion', axis=1)\n",
    "X_train, X_val, y_train, y_val = train_test_split(X_train_df, y_train_df, test_size=0.2, shuffle=False, random_state=0)"
   ]
  },
  {
   "cell_type": "code",
   "execution_count": 14,
   "id": "0c517914",
   "metadata": {
    "execution": {
     "iopub.execute_input": "2022-03-28T12:28:51.627030Z",
     "iopub.status.busy": "2022-03-28T12:28:51.626393Z",
     "iopub.status.idle": "2022-03-28T12:28:51.630630Z",
     "shell.execute_reply": "2022-03-28T12:28:51.631333Z",
     "shell.execute_reply.started": "2022-03-28T12:25:45.891321Z"
    },
    "papermill": {
     "duration": 0.032758,
     "end_time": "2022-03-28T12:28:51.631558",
     "exception": false,
     "start_time": "2022-03-28T12:28:51.598800",
     "status": "completed"
    },
    "tags": []
   },
   "outputs": [
    {
     "name": "stdout",
     "output_type": "stream",
     "text": [
      "(679068, 7) (679068,)\n",
      "(169767, 7) (169767,)\n"
     ]
    }
   ],
   "source": [
    "print(X_train.shape, y_train.shape)\n",
    "print(X_val.shape, y_val.shape)"
   ]
  },
  {
   "cell_type": "markdown",
   "id": "23573799",
   "metadata": {
    "papermill": {
     "duration": 0.022678,
     "end_time": "2022-03-28T12:28:51.677841",
     "exception": false,
     "start_time": "2022-03-28T12:28:51.655163",
     "status": "completed"
    },
    "tags": []
   },
   "source": [
    "# Modeling"
   ]
  },
  {
   "cell_type": "code",
   "execution_count": 15,
   "id": "58b32eb2",
   "metadata": {
    "execution": {
     "iopub.execute_input": "2022-03-28T12:28:51.726125Z",
     "iopub.status.busy": "2022-03-28T12:28:51.725509Z",
     "iopub.status.idle": "2022-03-28T12:28:53.072020Z",
     "shell.execute_reply": "2022-03-28T12:28:53.071438Z",
     "shell.execute_reply.started": "2022-03-28T12:26:01.032570Z"
    },
    "papermill": {
     "duration": 1.371668,
     "end_time": "2022-03-28T12:28:53.072166",
     "exception": false,
     "start_time": "2022-03-28T12:28:51.700498",
     "status": "completed"
    },
    "tags": []
   },
   "outputs": [
    {
     "data": {
      "text/html": [
       "<style type='text/css'>\n",
       ".datatable table.frame { margin-bottom: 0; }\n",
       ".datatable table.frame thead { border-bottom: none; }\n",
       ".datatable table.frame tr.coltypes td {  color: #FFFFFF;  line-height: 6px;  padding: 0 0.5em;}\n",
       ".datatable .bool    { background: #DDDD99; }\n",
       ".datatable .object  { background: #565656; }\n",
       ".datatable .int     { background: #5D9E5D; }\n",
       ".datatable .float   { background: #4040CC; }\n",
       ".datatable .str     { background: #CC4040; }\n",
       ".datatable .time    { background: #40CC40; }\n",
       ".datatable .row_index {  background: var(--jp-border-color3);  border-right: 1px solid var(--jp-border-color0);  color: var(--jp-ui-font-color3);  font-size: 9px;}\n",
       ".datatable .frame tbody td { text-align: left; }\n",
       ".datatable .frame tr.coltypes .row_index {  background: var(--jp-border-color0);}\n",
       ".datatable th:nth-child(2) { padding-left: 12px; }\n",
       ".datatable .hellipsis {  color: var(--jp-cell-editor-border-color);}\n",
       ".datatable .vellipsis {  background: var(--jp-layout-color0);  color: var(--jp-cell-editor-border-color);}\n",
       ".datatable .na {  color: var(--jp-cell-editor-border-color);  font-size: 80%;}\n",
       ".datatable .sp {  opacity: 0.25;}\n",
       ".datatable .footer { font-size: 9px; }\n",
       ".datatable .frame_dimensions {  background: var(--jp-border-color3);  border-top: 1px solid var(--jp-border-color0);  color: var(--jp-ui-font-color3);  display: inline-block;  opacity: 0.6;  padding: 1px 10px 1px 5px;}\n",
       "</style>\n"
      ],
      "text/plain": [
       "<IPython.core.display.HTML object>"
      ]
     },
     "metadata": {},
     "output_type": "display_data"
    }
   ],
   "source": [
    "from sklearn.linear_model import LinearRegression\n",
    "from sklearn.neighbors import KNeighborsRegressor\n",
    "from sklearn.ensemble import RandomForestRegressor\n",
    "from lightgbm import LGBMRegressor\n",
    "from xgboost import XGBRegressor\n",
    "from catboost import CatBoostRegressor\n",
    "\n",
    "from sklearn.metrics import mean_absolute_error\n",
    "\n",
    "import time\n"
   ]
  },
  {
   "cell_type": "code",
   "execution_count": 16,
   "id": "453ae609",
   "metadata": {
    "execution": {
     "iopub.execute_input": "2022-03-28T12:28:53.128066Z",
     "iopub.status.busy": "2022-03-28T12:28:53.127409Z",
     "iopub.status.idle": "2022-03-28T12:28:53.130581Z",
     "shell.execute_reply": "2022-03-28T12:28:53.130131Z",
     "shell.execute_reply.started": "2022-03-28T12:26:01.859468Z"
    },
    "papermill": {
     "duration": 0.034945,
     "end_time": "2022-03-28T12:28:53.130779",
     "exception": false,
     "start_time": "2022-03-28T12:28:53.095834",
     "status": "completed"
    },
    "tags": []
   },
   "outputs": [],
   "source": [
    "linr = LinearRegression()\n",
    "knn = KNeighborsRegressor(n_neighbors = 15)\n",
    "rf = RandomForestRegressor(n_estimators=20, max_depth=10,random_state=0)\n",
    "lgbm = LGBMRegressor(learning_rate=0.05, max_depth=6, n_estimators=300)\n",
    "xgb = XGBRegressor(learning_rate=0.5,max_depth=10,n_estimators=100)\n",
    "cat = CatBoostRegressor(iterations=2,learning_rate=1,depth=2)\n",
    "models = [linr, knn, rf, lgbm, xgb, cat]"
   ]
  },
  {
   "cell_type": "code",
   "execution_count": 17,
   "id": "fb48f5e2",
   "metadata": {
    "execution": {
     "iopub.execute_input": "2022-03-28T12:28:53.186562Z",
     "iopub.status.busy": "2022-03-28T12:28:53.185363Z",
     "iopub.status.idle": "2022-03-28T12:30:00.320557Z",
     "shell.execute_reply": "2022-03-28T12:30:00.319655Z",
     "shell.execute_reply.started": "2022-03-28T12:26:05.337327Z"
    },
    "papermill": {
     "duration": 67.166075,
     "end_time": "2022-03-28T12:30:00.320749",
     "exception": false,
     "start_time": "2022-03-28T12:28:53.154674",
     "status": "completed"
    },
    "tags": []
   },
   "outputs": [
    {
     "name": "stdout",
     "output_type": "stream",
     "text": [
      "LinearRegression : 13.534435768655669, total time: 0.1538848876953125\n",
      "KNeighborsRegressor : 6.79658590892223, total time: 12.292938470840454\n",
      "RandomForestRegressor : 7.072774287776391, total time: 14.640065908432007\n",
      "LGBMRegressor : 7.207969572576376, total time: 4.869458913803101\n",
      "XGBRegressor : 6.676641783029263, total time: 34.8335382938385\n",
      "0:\tlearn: 16.3722408\ttotal: 97.4ms\tremaining: 97.4ms\n",
      "1:\tlearn: 15.7993265\ttotal: 131ms\tremaining: 0us\n",
      "CatBoostRegressor : 12.93215140298916, total time: 0.3412191867828369\n"
     ]
    }
   ],
   "source": [
    "for model in models:\n",
    "    start_time=time.time()\n",
    "    model.fit(X_train, y_train)\n",
    "    val_pred = model.predict(X_val)\n",
    "    score=mean_absolute_error(val_pred, y_val)\n",
    "    print(f'{model.__class__.__name__} : {score}, total time: {time.time()-start_time}')\n",
    "    "
   ]
  },
  {
   "cell_type": "markdown",
   "id": "c1c6ae81",
   "metadata": {
    "papermill": {
     "duration": 0.024987,
     "end_time": "2022-03-28T12:30:00.371176",
     "exception": false,
     "start_time": "2022-03-28T12:30:00.346189",
     "status": "completed"
    },
    "tags": []
   },
   "source": [
    "# #Prediction"
   ]
  },
  {
   "cell_type": "code",
   "execution_count": 18,
   "id": "05e878a0",
   "metadata": {
    "execution": {
     "iopub.execute_input": "2022-03-28T12:30:00.424564Z",
     "iopub.status.busy": "2022-03-28T12:30:00.423563Z",
     "iopub.status.idle": "2022-03-28T12:30:39.445279Z",
     "shell.execute_reply": "2022-03-28T12:30:39.446056Z",
     "shell.execute_reply.started": "2022-03-28T12:27:25.468988Z"
    },
    "papermill": {
     "duration": 39.050621,
     "end_time": "2022-03-28T12:30:39.446296",
     "exception": false,
     "start_time": "2022-03-28T12:30:00.395675",
     "status": "completed"
    },
    "tags": []
   },
   "outputs": [],
   "source": [
    "final_model = XGBRegressor(learning_rate=0.5,max_depth=15,n_estimators=200)\n",
    "final_model.fit(X_train, y_train)\n",
    "final_pred = final_model.predict(test_df)\n",
    "final_pred = np.round(final_pred,0)\n",
    "test_df['congestion'] = final_pred"
   ]
  },
  {
   "cell_type": "code",
   "execution_count": 19,
   "id": "5b2fe684",
   "metadata": {
    "execution": {
     "iopub.execute_input": "2022-03-28T12:30:39.516788Z",
     "iopub.status.busy": "2022-03-28T12:30:39.516123Z",
     "iopub.status.idle": "2022-03-28T12:30:39.519170Z",
     "shell.execute_reply": "2022-03-28T12:30:39.519715Z",
     "shell.execute_reply.started": "2022-03-28T12:28:05.639985Z"
    },
    "papermill": {
     "duration": 0.040047,
     "end_time": "2022-03-28T12:30:39.519901",
     "exception": false,
     "start_time": "2022-03-28T12:30:39.479854",
     "status": "completed"
    },
    "tags": []
   },
   "outputs": [
    {
     "data": {
      "text/html": [
       "<div>\n",
       "<style scoped>\n",
       "    .dataframe tbody tr th:only-of-type {\n",
       "        vertical-align: middle;\n",
       "    }\n",
       "\n",
       "    .dataframe tbody tr th {\n",
       "        vertical-align: top;\n",
       "    }\n",
       "\n",
       "    .dataframe thead th {\n",
       "        text-align: right;\n",
       "    }\n",
       "</style>\n",
       "<table border=\"1\" class=\"dataframe\">\n",
       "  <thead>\n",
       "    <tr style=\"text-align: right;\">\n",
       "      <th></th>\n",
       "      <th>x</th>\n",
       "      <th>y</th>\n",
       "      <th>direction</th>\n",
       "      <th>hour</th>\n",
       "      <th>minute</th>\n",
       "      <th>dayofweek</th>\n",
       "      <th>weekday_weekend</th>\n",
       "      <th>congestion</th>\n",
       "    </tr>\n",
       "    <tr>\n",
       "      <th>row_id</th>\n",
       "      <th></th>\n",
       "      <th></th>\n",
       "      <th></th>\n",
       "      <th></th>\n",
       "      <th></th>\n",
       "      <th></th>\n",
       "      <th></th>\n",
       "      <th></th>\n",
       "    </tr>\n",
       "  </thead>\n",
       "  <tbody>\n",
       "    <tr>\n",
       "      <th>848835</th>\n",
       "      <td>0</td>\n",
       "      <td>0</td>\n",
       "      <td>0</td>\n",
       "      <td>12</td>\n",
       "      <td>0</td>\n",
       "      <td>0</td>\n",
       "      <td>0</td>\n",
       "      <td>45.0</td>\n",
       "    </tr>\n",
       "    <tr>\n",
       "      <th>848836</th>\n",
       "      <td>0</td>\n",
       "      <td>0</td>\n",
       "      <td>1</td>\n",
       "      <td>12</td>\n",
       "      <td>0</td>\n",
       "      <td>0</td>\n",
       "      <td>0</td>\n",
       "      <td>35.0</td>\n",
       "    </tr>\n",
       "    <tr>\n",
       "      <th>848837</th>\n",
       "      <td>0</td>\n",
       "      <td>0</td>\n",
       "      <td>4</td>\n",
       "      <td>12</td>\n",
       "      <td>0</td>\n",
       "      <td>0</td>\n",
       "      <td>0</td>\n",
       "      <td>56.0</td>\n",
       "    </tr>\n",
       "    <tr>\n",
       "      <th>848838</th>\n",
       "      <td>0</td>\n",
       "      <td>1</td>\n",
       "      <td>0</td>\n",
       "      <td>12</td>\n",
       "      <td>0</td>\n",
       "      <td>0</td>\n",
       "      <td>0</td>\n",
       "      <td>22.0</td>\n",
       "    </tr>\n",
       "    <tr>\n",
       "      <th>848839</th>\n",
       "      <td>0</td>\n",
       "      <td>1</td>\n",
       "      <td>1</td>\n",
       "      <td>12</td>\n",
       "      <td>0</td>\n",
       "      <td>0</td>\n",
       "      <td>0</td>\n",
       "      <td>73.0</td>\n",
       "    </tr>\n",
       "  </tbody>\n",
       "</table>\n",
       "</div>"
      ],
      "text/plain": [
       "        x  y  direction  hour  minute  dayofweek  weekday_weekend  congestion\n",
       "row_id                                                                       \n",
       "848835  0  0          0    12       0          0                0        45.0\n",
       "848836  0  0          1    12       0          0                0        35.0\n",
       "848837  0  0          4    12       0          0                0        56.0\n",
       "848838  0  1          0    12       0          0                0        22.0\n",
       "848839  0  1          1    12       0          0                0        73.0"
      ]
     },
     "execution_count": 19,
     "metadata": {},
     "output_type": "execute_result"
    }
   ],
   "source": [
    "test_df.head()"
   ]
  },
  {
   "cell_type": "code",
   "execution_count": 20,
   "id": "f74bf759",
   "metadata": {
    "execution": {
     "iopub.execute_input": "2022-03-28T12:30:39.575644Z",
     "iopub.status.busy": "2022-03-28T12:30:39.575046Z",
     "iopub.status.idle": "2022-03-28T12:30:39.588995Z",
     "shell.execute_reply": "2022-03-28T12:30:39.589517Z",
     "shell.execute_reply.started": "2022-03-28T12:28:16.874810Z"
    },
    "papermill": {
     "duration": 0.04317,
     "end_time": "2022-03-28T12:30:39.589694",
     "exception": false,
     "start_time": "2022-03-28T12:30:39.546524",
     "status": "completed"
    },
    "tags": []
   },
   "outputs": [
    {
     "data": {
      "text/html": [
       "<div>\n",
       "<style scoped>\n",
       "    .dataframe tbody tr th:only-of-type {\n",
       "        vertical-align: middle;\n",
       "    }\n",
       "\n",
       "    .dataframe tbody tr th {\n",
       "        vertical-align: top;\n",
       "    }\n",
       "\n",
       "    .dataframe thead th {\n",
       "        text-align: right;\n",
       "    }\n",
       "</style>\n",
       "<table border=\"1\" class=\"dataframe\">\n",
       "  <thead>\n",
       "    <tr style=\"text-align: right;\">\n",
       "      <th></th>\n",
       "      <th>row_id</th>\n",
       "      <th>congestion</th>\n",
       "    </tr>\n",
       "  </thead>\n",
       "  <tbody>\n",
       "    <tr>\n",
       "      <th>0</th>\n",
       "      <td>848835</td>\n",
       "      <td>45.0</td>\n",
       "    </tr>\n",
       "    <tr>\n",
       "      <th>1</th>\n",
       "      <td>848836</td>\n",
       "      <td>35.0</td>\n",
       "    </tr>\n",
       "    <tr>\n",
       "      <th>2</th>\n",
       "      <td>848837</td>\n",
       "      <td>56.0</td>\n",
       "    </tr>\n",
       "    <tr>\n",
       "      <th>3</th>\n",
       "      <td>848838</td>\n",
       "      <td>22.0</td>\n",
       "    </tr>\n",
       "    <tr>\n",
       "      <th>4</th>\n",
       "      <td>848839</td>\n",
       "      <td>73.0</td>\n",
       "    </tr>\n",
       "  </tbody>\n",
       "</table>\n",
       "</div>"
      ],
      "text/plain": [
       "   row_id  congestion\n",
       "0  848835        45.0\n",
       "1  848836        35.0\n",
       "2  848837        56.0\n",
       "3  848838        22.0\n",
       "4  848839        73.0"
      ]
     },
     "execution_count": 20,
     "metadata": {},
     "output_type": "execute_result"
    }
   ],
   "source": [
    "submission = test_df.reset_index()[['row_id','congestion']]\n",
    "submission.head()"
   ]
  },
  {
   "cell_type": "code",
   "execution_count": 21,
   "id": "e3bf100c",
   "metadata": {
    "execution": {
     "iopub.execute_input": "2022-03-28T12:30:39.645582Z",
     "iopub.status.busy": "2022-03-28T12:30:39.645025Z",
     "iopub.status.idle": "2022-03-28T12:30:39.655923Z",
     "shell.execute_reply": "2022-03-28T12:30:39.656426Z",
     "shell.execute_reply.started": "2022-03-28T12:28:17.823284Z"
    },
    "papermill": {
     "duration": 0.04012,
     "end_time": "2022-03-28T12:30:39.656587",
     "exception": false,
     "start_time": "2022-03-28T12:30:39.616467",
     "status": "completed"
    },
    "tags": []
   },
   "outputs": [],
   "source": [
    "submission.to_csv('submission.csv', index=False)"
   ]
  },
  {
   "cell_type": "code",
   "execution_count": null,
   "id": "1d64138c",
   "metadata": {
    "papermill": {
     "duration": 0.025698,
     "end_time": "2022-03-28T12:30:39.708969",
     "exception": false,
     "start_time": "2022-03-28T12:30:39.683271",
     "status": "completed"
    },
    "tags": []
   },
   "outputs": [],
   "source": []
  }
 ],
 "metadata": {
  "kernelspec": {
   "display_name": "Python 3",
   "language": "python",
   "name": "python3"
  },
  "language_info": {
   "codemirror_mode": {
    "name": "ipython",
    "version": 3
   },
   "file_extension": ".py",
   "mimetype": "text/x-python",
   "name": "python",
   "nbconvert_exporter": "python",
   "pygments_lexer": "ipython3",
   "version": "3.7.12"
  },
  "papermill": {
   "default_parameters": {},
   "duration": 125.463082,
   "end_time": "2022-03-28T12:30:40.544244",
   "environment_variables": {},
   "exception": null,
   "input_path": "__notebook__.ipynb",
   "output_path": "__notebook__.ipynb",
   "parameters": {},
   "start_time": "2022-03-28T12:28:35.081162",
   "version": "2.3.3"
  }
 },
 "nbformat": 4,
 "nbformat_minor": 5
}
